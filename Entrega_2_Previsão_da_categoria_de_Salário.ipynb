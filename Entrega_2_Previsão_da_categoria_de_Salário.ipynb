{
  "nbformat": 4,
  "nbformat_minor": 0,
  "metadata": {
    "colab": {
      "name": "Entrega 2 - Previsão da categoria de Salário.ipynb",
      "provenance": [],
      "collapsed_sections": [
        "JPIUIoTh9IMA",
        "in9pRpjgB_bm",
        "3fj7Q0LIj5Qs",
        "ZA5_gW2eqq-W",
        "bzQ8W_mm8vkP",
        "6ILgeqUDAPpV",
        "I7ej3n0OK8HI",
        "8xae9antqu_0",
        "HJfoyNZPq1qy",
        "RPKM_TbNQkLO",
        "MRc4a3CQQkLU",
        "BwQi7LTaQkLV",
        "jaimiXPGq26U",
        "MaR_61Mwq-uX",
        "2X20W_2eR-sp",
        "XZ3CTM6eR-s6",
        "3_J2ITbIR-s6",
        "EzpkBp_grC4Y",
        "S4K28ZobrFOy",
        "FFNUKBa9rIvw",
        "8GMAW2XBrLj0",
        "tMiEtPx1rQxR",
        "OLRRQnuorS1T",
        "eKO3WEtvSL8o",
        "pqo1Z691SL87",
        "9rH8xRLFSL87",
        "wDQFHNhLrU8f",
        "CvDaNL1dSMzt",
        "s9uFa3Q1SMzu",
        "etPAe_AzSMzu",
        "leDXZ2GDrW5w",
        "FfT0plUqSOil",
        "3EWd5RO9SOim",
        "-3C2Fu6MSOin",
        "iHG9g9IxtXZQ",
        "ZA1I2WYQtaCF",
        "oNhWWvMWtb8R",
        "NMqXScoRcEoI",
        "ZAhFHc70cJij",
        "crEMCrhPcUaG",
        "XpQt82jpSPj0"
      ]
    },
    "kernelspec": {
      "name": "python3",
      "display_name": "Python 3"
    },
    "language_info": {
      "name": "python"
    }
  },
  "cells": [
    {
      "cell_type": "markdown",
      "source": [
        "# Fases de Treinamento e Validação dos Modelos\n",
        "\n",
        "> O problema apresentado é do tipo Classificação, busca-se separar os dados de teste nas classes >50K e <=50K.\n",
        "\n",
        "> Para solucionar o problema da previsão dos salários, eu utilizei todos os atributos da base, tirando o rótulo, e realizei uma etapa de pré-processamento, que transformou os dados da base. Inicialmente eu dividi a base \"wage_train\" em duas, base de treino (80%) e base de validação (20%), pois assim consegueria medir a performace dos modelos. \n",
        "\n",
        "> Nesses dados eu realizei 3 transformações, o primeiro foi o LabelEnconder, que basicamente converte os atributos categoricos (workclass, education, marital_status, occupation, relationship, race, sex e native_country) em números, pois os modelos não trabalham com strings nesses categorias. \n",
        "\n",
        "> O segundo foi o OneHotEnconder, que basicamente pega esses atributos que eram categoricos, e converte em um array onde fica 1 na coluna que representa aquela categoria, e 0 nas outras colunas, esse pré-processamento serve para os modelos não \"darem pesos\" diferentes para categorias com números diferentes, se for 0 para categoria_X e 1 para categoria_Y, o modelo poderia achar que o categoria_Y é mais importante por ser maior, ou vice-versa. \n",
        "\n",
        "> O terceiro foi o Escalonamento dos dados, todos os valores na mesma escala, o que pode melhorar os resultados de alguns modelos. \n",
        "\n",
        "> Para este problema eu utilizei os algoritmos de aprendizagem de máquina: Árvore de Descisão, KNN, Naive Bayes, Random Forest, Regressão Logística e SVM. Apliquei os mesmos dados de treinamento para cada modelo, e analisei os resultados na fase de validação.\n",
        "\n",
        "> Para medir a performance dos modelos, utilizei as métricas: Acurácia, Precisão e Recall, além de utilizar a Matriz de Confusão para análise dos resultados. Utilizar todas essas métricas em conjunto, faz a análise ser menos influenciada pelo desbalanceamento das classes da base.\n",
        "\n",
        "> Para os experimentos que eu realizei, o melhor resultado na fase de validação foi com o modelo Random Forest, este trouxe os maiores valores para as 3 métricas de performance. Acurácia: 0,85; Precisão: 0,80; Recall: 0,77. Por isso, esse foi o modelo escolhido. \n",
        "\n",
        "> Uma das características do Random Forest, é que ele é um conjunto de árvores de descisão, por um lado, isso é um pró pois trás o melhor resultado em conjunto do que se utilizasse apenas uma árvore, mas por outro lado, isso não um contra, pois utiliza mais processamento do que uma simples árvore de descisão, apesar disso, ainda utiliza menos processamento do que outros modelos, como o SVM. \n"
      ],
      "metadata": {
        "id": "PQpkEC8-jtvd"
      }
    },
    {
      "cell_type": "markdown",
      "source": [
        "## Bibliotecas"
      ],
      "metadata": {
        "id": "RXPk5mQ5nBvk"
      }
    },
    {
      "cell_type": "code",
      "source": [
        "import pandas as pd\n",
        "import warnings\n",
        "warnings.filterwarnings(\"ignore\")\n",
        "from matplotlib import pyplot as plt\n",
        "import seaborn as sns\n",
        "\n",
        "from sklearn.preprocessing import LabelEncoder\n",
        "from sklearn.preprocessing import OneHotEncoder\n",
        "from sklearn.compose import ColumnTransformer\n",
        "from sklearn.preprocessing import StandardScaler\n",
        "from sklearn.model_selection import train_test_split\n",
        "\n",
        "from sklearn.naive_bayes import GaussianNB\n",
        "from sklearn.tree import DecisionTreeClassifier\n",
        "from sklearn.neighbors import KNeighborsClassifier\n",
        "from sklearn.ensemble import RandomForestClassifier\n",
        "from sklearn.svm import SVC\n",
        "from sklearn.linear_model import LogisticRegression\n",
        "\n",
        "\n",
        "from sklearn.metrics import accuracy_score\n",
        "from sklearn.metrics import precision_score\n",
        "from sklearn.metrics import recall_score\n",
        "from sklearn.metrics import confusion_matrix, ConfusionMatrixDisplay\n",
        "\n",
        "import numpy as np"
      ],
      "metadata": {
        "id": "26nWHTc8JeRl"
      },
      "execution_count": 1,
      "outputs": []
    },
    {
      "cell_type": "markdown",
      "source": [
        "## Carregando a Base"
      ],
      "metadata": {
        "id": "hcNgoplhbM6m"
      }
    },
    {
      "cell_type": "code",
      "source": [
        "df = pd.read_csv('wage_train.csv')\n",
        "df = df.drop(columns=['Unnamed: 0'])"
      ],
      "metadata": {
        "id": "OEBqGZfobJTe"
      },
      "execution_count": 2,
      "outputs": []
    },
    {
      "cell_type": "markdown",
      "source": [
        "## Funções Auxiliares"
      ],
      "metadata": {
        "id": "GjfxUf5XnVRO"
      }
    },
    {
      "cell_type": "code",
      "source": [
        "def avaliacao(rotulos_validacao, rotulos_previstos, modelo):\n",
        "\n",
        "    print(f'Acurácia: {accuracy_score(rotulos_validacao, rotulos_previstos)}')\n",
        "    print(f\"Precisão: {precision_score(rotulos_validacao, rotulos_previstos, average='macro')}\")\n",
        "    print(f\"Recall: {recall_score(rotulos_validacao, rotulos_previstos, average='macro')}\")\n",
        "    print(f'Matriz de Confusão: ')\n",
        "    cm = confusion_matrix(rotulos_validacao, rotulos_previstos, labels=modelo.classes_)\n",
        "    disp = ConfusionMatrixDisplay(confusion_matrix=cm, display_labels=modelo.classes_)\n",
        "    disp.plot()"
      ],
      "metadata": {
        "id": "vpliXL8YnXe0"
      },
      "execution_count": 3,
      "outputs": []
    },
    {
      "cell_type": "markdown",
      "source": [
        "## Tranformações dos dados\n"
      ],
      "metadata": {
        "id": "nLJxWz7atMjE"
      }
    },
    {
      "cell_type": "code",
      "source": [
        "df_atributos = df.iloc[:, 0:14].values\n",
        "df_rotulos = df.iloc[:, 14].values"
      ],
      "metadata": {
        "id": "Qul5CWatIinD"
      },
      "execution_count": 4,
      "outputs": []
    },
    {
      "cell_type": "markdown",
      "source": [
        "### Divisão em treino e validação"
      ],
      "metadata": {
        "id": "XzMmdIszTBls"
      }
    },
    {
      "cell_type": "code",
      "source": [
        "atributos_treino, atributos_validacao, rotulos_treino, rotulos_validacao = train_test_split(df_atributos, df_rotulos, test_size = 0.20, random_state=0)"
      ],
      "metadata": {
        "id": "IrSPY8s7TAur"
      },
      "execution_count": 5,
      "outputs": []
    },
    {
      "cell_type": "markdown",
      "source": [
        "### LabelEncoder"
      ],
      "metadata": {
        "id": "Fm55200-bxjo"
      }
    },
    {
      "cell_type": "code",
      "source": [
        "label_enconder_workclass = LabelEncoder()\n",
        "label_enconder_education = LabelEncoder()\n",
        "label_enconder_marital_status = LabelEncoder()\n",
        "label_enconder_occupation = LabelEncoder()\n",
        "label_enconder_relationship = LabelEncoder()\n",
        "label_enconder_race = LabelEncoder()\n",
        "label_enconder_sex = LabelEncoder()\n",
        "label_enconder_native_country = LabelEncoder()"
      ],
      "metadata": {
        "id": "8eaEt0RDKHhR"
      },
      "execution_count": 6,
      "outputs": []
    },
    {
      "cell_type": "code",
      "source": [
        "# Treino\n",
        "atributos_treino[:, 1] = label_enconder_workclass.fit_transform(atributos_treino[:, 1])\n",
        "atributos_treino[:, 3] = label_enconder_education.fit_transform(atributos_treino[:, 3])\n",
        "atributos_treino[:, 5] = label_enconder_marital_status.fit_transform(atributos_treino[:, 5])\n",
        "atributos_treino[:, 6] = label_enconder_occupation.fit_transform(atributos_treino[:, 6])\n",
        "atributos_treino[:, 7] = label_enconder_relationship.fit_transform(atributos_treino[:, 7])\n",
        "atributos_treino[:, 8] = label_enconder_race.fit_transform(atributos_treino[:, 8])\n",
        "atributos_treino[:, 9] = label_enconder_sex.fit_transform(atributos_treino[:, 9])\n",
        "atributos_treino[:, 13] = label_enconder_native_country.fit_transform(atributos_treino[:, 13])"
      ],
      "metadata": {
        "id": "dwdEaF_vLyhs"
      },
      "execution_count": 7,
      "outputs": []
    },
    {
      "cell_type": "code",
      "source": [
        "# Validacao\n",
        "atributos_validacao[:, 1] = label_enconder_workclass.transform(atributos_validacao[:, 1])\n",
        "atributos_validacao[:, 3] = label_enconder_education.transform(atributos_validacao[:, 3])\n",
        "atributos_validacao[:, 5] = label_enconder_marital_status.transform(atributos_validacao[:, 5])\n",
        "atributos_validacao[:, 6] = label_enconder_occupation.transform(atributos_validacao[:, 6])\n",
        "atributos_validacao[:, 7] = label_enconder_relationship.transform(atributos_validacao[:, 7])\n",
        "atributos_validacao[:, 8] = label_enconder_race.transform(atributos_validacao[:, 8])\n",
        "atributos_validacao[:, 9] = label_enconder_sex.transform(atributos_validacao[:, 9])\n",
        "atributos_validacao[:, 13] = label_enconder_native_country.transform(atributos_validacao[:, 13])"
      ],
      "metadata": {
        "id": "65KMFza-uvIk"
      },
      "execution_count": 8,
      "outputs": []
    },
    {
      "cell_type": "markdown",
      "source": [
        "### One Hot Encoder"
      ],
      "metadata": {
        "id": "vHZumq2ob0HB"
      }
    },
    {
      "cell_type": "code",
      "source": [
        "onehotenconder = ColumnTransformer(transformers = [('OneHot', OneHotEncoder(), [1, 3, 5, 6, 7, 8, 9, 13])], remainder='passthrough')"
      ],
      "metadata": {
        "id": "pXpr3izONeMe"
      },
      "execution_count": 9,
      "outputs": []
    },
    {
      "cell_type": "code",
      "source": [
        "#Treino\n",
        "atributos_treino = onehotenconder.fit_transform(atributos_treino).toarray()"
      ],
      "metadata": {
        "id": "MTD1vphQOjx9"
      },
      "execution_count": 10,
      "outputs": []
    },
    {
      "cell_type": "code",
      "source": [
        "#Validacao\n",
        "atributos_validacao = onehotenconder.transform(atributos_validacao).toarray()"
      ],
      "metadata": {
        "id": "zO_kcu4ju5je"
      },
      "execution_count": 11,
      "outputs": []
    },
    {
      "cell_type": "markdown",
      "source": [
        "### Escalonamento\n"
      ],
      "metadata": {
        "id": "fQyd7Em3bu-B"
      }
    },
    {
      "cell_type": "code",
      "source": [
        "standardscaler = StandardScaler()"
      ],
      "metadata": {
        "id": "F369vwB5PCuX"
      },
      "execution_count": 12,
      "outputs": []
    },
    {
      "cell_type": "code",
      "source": [
        "#Treino\n",
        "atributos_treino = standardscaler.fit_transform(atributos_treino)"
      ],
      "metadata": {
        "id": "tPalFEf6u8-H"
      },
      "execution_count": 13,
      "outputs": []
    },
    {
      "cell_type": "code",
      "source": [
        "#Validacao\n",
        "atributos_validacao = standardscaler.transform(atributos_validacao)"
      ],
      "metadata": {
        "id": "DGWhowo2u_kk"
      },
      "execution_count": 14,
      "outputs": []
    },
    {
      "cell_type": "markdown",
      "source": [
        "## Modelos"
      ],
      "metadata": {
        "id": "pYDKUEbOofRX"
      }
    },
    {
      "cell_type": "markdown",
      "source": [
        "### Árvore de Descisão\n",
        "\n",
        "> Acurácia: 0.816031941031941\n",
        "\n",
        "> Precisão: 0.7469644263650446\n",
        "\n",
        "> Recall: 0.7456518340688116"
      ],
      "metadata": {
        "id": "ZA1I2WYQtaCF"
      }
    },
    {
      "cell_type": "markdown",
      "source": [
        "####Treino"
      ],
      "metadata": {
        "id": "26blJzbPnvmm"
      }
    },
    {
      "cell_type": "code",
      "source": [
        "modelo_ad = DecisionTreeClassifier(random_state=0)\n",
        "modelo_ad.fit(atributos_treino, rotulos_treino)"
      ],
      "metadata": {
        "colab": {
          "base_uri": "https://localhost:8080/"
        },
        "outputId": "73259397-50ac-41ad-84e1-32c5d6eca99d",
        "id": "UNNDGO8mnvmn"
      },
      "execution_count": 15,
      "outputs": [
        {
          "output_type": "execute_result",
          "data": {
            "text/plain": [
              "DecisionTreeClassifier(random_state=0)"
            ]
          },
          "metadata": {},
          "execution_count": 15
        }
      ]
    },
    {
      "cell_type": "markdown",
      "source": [
        "####Validação"
      ],
      "metadata": {
        "id": "DVp0b6h8nvmo"
      }
    },
    {
      "cell_type": "code",
      "source": [
        "rotulos_previstos = modelo_ad.predict(atributos_validacao)\n",
        "\n",
        "avaliacao(rotulos_validacao, rotulos_previstos, modelo_ad)"
      ],
      "metadata": {
        "colab": {
          "base_uri": "https://localhost:8080/",
          "height": 348
        },
        "outputId": "9e28331b-0833-4deb-e18c-3d7e189c1f2d",
        "id": "d6jP8aPknvmo"
      },
      "execution_count": 16,
      "outputs": [
        {
          "output_type": "stream",
          "name": "stdout",
          "text": [
            "Acurácia: 0.816031941031941\n",
            "Precisão: 0.7469644263650446\n",
            "Recall: 0.7456518340688116\n",
            "Matriz de Confusão: \n"
          ]
        },
        {
          "output_type": "display_data",
          "data": {
            "text/plain": [
              "<Figure size 432x288 with 2 Axes>"
            ],
            "image/png": "[encoded data removed]"
          },
          "metadata": {
            "needs_background": "light"
          }
        }
      ]
    },
    {
      "cell_type": "markdown",
      "source": [
        "### KNN\n",
        "\n",
        "> Acurácia: 0.8149570024570024\n",
        "\n",
        "> Precisão: 0.7458302446256486\n",
        "\n",
        "> Recall: 0.7306018252145299"
      ],
      "metadata": {
        "id": "iHG9g9IxtXZQ"
      }
    },
    {
      "cell_type": "markdown",
      "source": [
        "####Treino"
      ],
      "metadata": {
        "id": "C3VOCWaFnuXH"
      }
    },
    {
      "cell_type": "code",
      "source": [
        "modelo_knn = KNeighborsClassifier(n_neighbors=3)\n",
        "modelo_knn.fit(atributos_treino, rotulos_treino)"
      ],
      "metadata": {
        "colab": {
          "base_uri": "https://localhost:8080/"
        },
        "outputId": "0f36a4b2-0705-462f-cee4-d0022005ab66",
        "id": "kQK5N6UonuXI"
      },
      "execution_count": 17,
      "outputs": [
        {
          "output_type": "execute_result",
          "data": {
            "text/plain": [
              "KNeighborsClassifier(n_neighbors=3)"
            ]
          },
          "metadata": {},
          "execution_count": 17
        }
      ]
    },
    {
      "cell_type": "markdown",
      "source": [
        "####Validação"
      ],
      "metadata": {
        "id": "F0SPBJYZnuXI"
      }
    },
    {
      "cell_type": "code",
      "source": [
        "rotulos_previstos = modelo_knn.predict(atributos_validacao)\n",
        "\n",
        "avaliacao(rotulos_validacao, rotulos_previstos, modelo_knn)"
      ],
      "metadata": {
        "colab": {
          "base_uri": "https://localhost:8080/",
          "height": 0
        },
        "outputId": "7a3cd39c-f779-4aa0-f794-dad3f0478ab5",
        "id": "mlkdDG5cnuXI"
      },
      "execution_count": 18,
      "outputs": [
        {
          "output_type": "stream",
          "name": "stdout",
          "text": [
            "Acurácia: 0.8149570024570024\n",
            "Precisão: 0.7458302446256486\n",
            "Recall: 0.7306018252145299\n",
            "Matriz de Confusão: \n"
          ]
        },
        {
          "output_type": "display_data",
          "data": {
            "text/plain": [
              "<Figure size 432x288 with 2 Axes>"
            ],
            "image/png": "[encoded data removed]"
          },
          "metadata": {
            "needs_background": "light"
          }
        }
      ]
    },
    {
      "cell_type": "markdown",
      "source": [
        "### Naive Bayes\n",
        "\n",
        "> Acurácia: 0.44364250614250617\n",
        "\n",
        "> Precisão: 0.6318518359350034\n",
        "\n",
        "> Recall: 0.6241854222843788"
      ],
      "metadata": {
        "id": "qfpxa27gtY6N"
      }
    },
    {
      "cell_type": "markdown",
      "source": [
        "#### Treino"
      ],
      "metadata": {
        "id": "zh4D4Wi7WrOq"
      }
    },
    {
      "cell_type": "code",
      "source": [
        "modelo_nb = GaussianNB()\n",
        "modelo_nb.fit(atributos_treino, rotulos_treino)"
      ],
      "metadata": {
        "id": "atfj4z2jQnNS",
        "colab": {
          "base_uri": "https://localhost:8080/"
        },
        "outputId": "ed2c19c6-87e5-45f1-fdd5-507f09ea21ca"
      },
      "execution_count": 19,
      "outputs": [
        {
          "output_type": "execute_result",
          "data": {
            "text/plain": [
              "GaussianNB()"
            ]
          },
          "metadata": {},
          "execution_count": 19
        }
      ]
    },
    {
      "cell_type": "markdown",
      "source": [
        "####Validação"
      ],
      "metadata": {
        "id": "uUeHlew7Wtda"
      }
    },
    {
      "cell_type": "code",
      "source": [
        "rotulos_previstos = modelo_nb.predict(atributos_validacao)\n",
        "\n",
        "avaliacao(rotulos_validacao, rotulos_previstos, modelo_nb)"
      ],
      "metadata": {
        "colab": {
          "base_uri": "https://localhost:8080/",
          "height": 0
        },
        "id": "SLpCuPYoVAH2",
        "outputId": "398d0f07-41ba-4bee-f636-0d415d61c2d8"
      },
      "execution_count": 20,
      "outputs": [
        {
          "output_type": "stream",
          "name": "stdout",
          "text": [
            "Acurácia: 0.44364250614250617\n",
            "Precisão: 0.6318518359350034\n",
            "Recall: 0.6241854222843788\n",
            "Matriz de Confusão: \n"
          ]
        },
        {
          "output_type": "display_data",
          "data": {
            "text/plain": [
              "<Figure size 432x288 with 2 Axes>"
            ],
            "image/png": "[encoded data removed]"
          },
          "metadata": {
            "needs_background": "light"
          }
        }
      ]
    },
    {
      "cell_type": "markdown",
      "source": [
        "### Random Forest\n",
        "\n",
        "> Acurácia: 0.855036855036855\n",
        "\n",
        "> Precisão: 0.8092037597005\n",
        "\n",
        "> Recall: 0.7741409562754156\n"
      ],
      "metadata": {
        "id": "oNhWWvMWtb8R"
      }
    },
    {
      "cell_type": "markdown",
      "source": [
        "####Treino"
      ],
      "metadata": {
        "id": "ts2LM3jinwp9"
      }
    },
    {
      "cell_type": "code",
      "source": [
        "modelo_rf = RandomForestClassifier(n_estimators=50, random_state=0)\n",
        "modelo_rf.fit(atributos_treino, rotulos_treino)"
      ],
      "metadata": {
        "colab": {
          "base_uri": "https://localhost:8080/"
        },
        "outputId": "a9c05dd4-1536-4b4a-98ca-3f854a1dec49",
        "id": "DOjTARKVnwp-"
      },
      "execution_count": 21,
      "outputs": [
        {
          "output_type": "execute_result",
          "data": {
            "text/plain": [
              "RandomForestClassifier(n_estimators=50, random_state=0)"
            ]
          },
          "metadata": {},
          "execution_count": 21
        }
      ]
    },
    {
      "cell_type": "markdown",
      "source": [
        "####Validação"
      ],
      "metadata": {
        "id": "9rugvp6Gnwp_"
      }
    },
    {
      "cell_type": "code",
      "source": [
        "rotulos_previstos = modelo_rf.predict(atributos_validacao)\n",
        "\n",
        "avaliacao(rotulos_validacao, rotulos_previstos, modelo_rf)"
      ],
      "metadata": {
        "colab": {
          "base_uri": "https://localhost:8080/",
          "height": 348
        },
        "outputId": "ba9ecf8c-0267-44c1-c53b-9ed2d9408767",
        "id": "_Yq-qpY-nwqA"
      },
      "execution_count": 22,
      "outputs": [
        {
          "output_type": "stream",
          "name": "stdout",
          "text": [
            "Acurácia: 0.855036855036855\n",
            "Precisão: 0.8092037597005\n",
            "Recall: 0.7741409562754156\n",
            "Matriz de Confusão: \n"
          ]
        },
        {
          "output_type": "display_data",
          "data": {
            "text/plain": [
              "<Figure size 432x288 with 2 Axes>"
            ],
            "image/png": "[encoded data removed]"
          },
          "metadata": {
            "needs_background": "light"
          }
        }
      ]
    },
    {
      "cell_type": "markdown",
      "source": [
        "### Regressão Logística\n",
        "\n",
        "> Acurácia: 0.8511977886977887\n",
        "\n",
        "> Precisão: 0.8064419798068774\n",
        "\n",
        "> Recall: 0.7621302039987623"
      ],
      "metadata": {
        "id": "ZAhFHc70cJij"
      }
    },
    {
      "cell_type": "markdown",
      "source": [
        "####Treino"
      ],
      "metadata": {
        "id": "XlMWAhUqnyfz"
      }
    },
    {
      "cell_type": "code",
      "source": [
        "modelo_rl = LogisticRegression(random_state=0)\n",
        "modelo_rl.fit(atributos_treino, rotulos_treino)"
      ],
      "metadata": {
        "colab": {
          "base_uri": "https://localhost:8080/"
        },
        "outputId": "8ee950ee-8e28-437a-e536-f6d806ed72a0",
        "id": "UYNvUypynyf0"
      },
      "execution_count": 23,
      "outputs": [
        {
          "output_type": "execute_result",
          "data": {
            "text/plain": [
              "LogisticRegression(random_state=0)"
            ]
          },
          "metadata": {},
          "execution_count": 23
        }
      ]
    },
    {
      "cell_type": "markdown",
      "source": [
        "####Validação"
      ],
      "metadata": {
        "id": "Mte0kbeznyf1"
      }
    },
    {
      "cell_type": "code",
      "source": [
        "rotulos_previstos = modelo_rl.predict(atributos_validacao)\n",
        "\n",
        "avaliacao(rotulos_validacao, rotulos_previstos, modelo_rl)"
      ],
      "metadata": {
        "colab": {
          "base_uri": "https://localhost:8080/",
          "height": 0
        },
        "outputId": "718728b2-f3df-4aa2-ce67-743fff1bfafd",
        "id": "ZAyqK-zbnyf1"
      },
      "execution_count": 24,
      "outputs": [
        {
          "output_type": "stream",
          "name": "stdout",
          "text": [
            "Acurácia: 0.8511977886977887\n",
            "Precisão: 0.8064419798068774\n",
            "Recall: 0.7621302039987623\n",
            "Matriz de Confusão: \n"
          ]
        },
        {
          "output_type": "display_data",
          "data": {
            "text/plain": [
              "<Figure size 432x288 with 2 Axes>"
            ],
            "image/png": "[encoded data removed]"
          },
          "metadata": {
            "needs_background": "light"
          }
        }
      ]
    },
    {
      "cell_type": "markdown",
      "source": [
        "### SVM\n",
        "\n",
        "> Acurácia: 0.8493550368550369\n",
        "\n",
        "> Precisão: 0.806323483724736\n",
        "\n",
        "> Recall: 0.7542995160307908"
      ],
      "metadata": {
        "id": "NMqXScoRcEoI"
      }
    },
    {
      "cell_type": "markdown",
      "source": [
        "####Treino"
      ],
      "metadata": {
        "id": "ZHHKoQkqnxkN"
      }
    },
    {
      "cell_type": "code",
      "source": [
        "modelo_svm = SVC(kernel='linear', random_state=0)\n",
        "modelo_svm.fit(atributos_treino, rotulos_treino)"
      ],
      "metadata": {
        "colab": {
          "base_uri": "https://localhost:8080/"
        },
        "outputId": "8a6963d2-0568-4cdc-9108-e6726120cc00",
        "id": "6wrCWfc9nxkN"
      },
      "execution_count": 25,
      "outputs": [
        {
          "output_type": "execute_result",
          "data": {
            "text/plain": [
              "SVC(kernel='linear', random_state=0)"
            ]
          },
          "metadata": {},
          "execution_count": 25
        }
      ]
    },
    {
      "cell_type": "markdown",
      "source": [
        "####Validação"
      ],
      "metadata": {
        "id": "T1RnQLoWnxkO"
      }
    },
    {
      "cell_type": "code",
      "source": [
        "rotulos_previstos = modelo_svm.predict(atributos_validacao)\n",
        "\n",
        "avaliacao(rotulos_validacao, rotulos_previstos, modelo_svm)"
      ],
      "metadata": {
        "colab": {
          "base_uri": "https://localhost:8080/",
          "height": 0
        },
        "outputId": "fb117def-2708-4343-ee15-6d7ab7e54cd4",
        "id": "oxhjsIY3nxkO"
      },
      "execution_count": 26,
      "outputs": [
        {
          "output_type": "stream",
          "name": "stdout",
          "text": [
            "Acurácia: 0.8493550368550369\n",
            "Precisão: 0.806323483724736\n",
            "Recall: 0.7542995160307908\n",
            "Matriz de Confusão: \n"
          ]
        },
        {
          "output_type": "display_data",
          "data": {
            "text/plain": [
              "<Figure size 432x288 with 2 Axes>"
            ],
            "image/png": "[encoded data removed]"
          },
          "metadata": {
            "needs_background": "light"
          }
        }
      ]
    },
    {
      "cell_type": "markdown",
      "source": [
        "## Modelo Escolhido: Random Forest, pois tem as maiores métricas. "
      ],
      "metadata": {
        "id": "RiPuZydHXCTq"
      }
    },
    {
      "cell_type": "markdown",
      "source": [
        "# Fase de Teste"
      ],
      "metadata": {
        "id": "XpQt82jpSPj0"
      }
    },
    {
      "cell_type": "markdown",
      "source": [
        "## Carregando a base de teste"
      ],
      "metadata": {
        "id": "nEnjrBP5Viif"
      }
    },
    {
      "cell_type": "code",
      "source": [
        "df_teste = pd.read_csv('wage_test.csv')\n",
        "df_teste = df_teste.drop(columns=['Unnamed: 0'])\n",
        "df_teste"
      ],
      "metadata": {
        "id": "7ofx6NspRRrX",
        "colab": {
          "base_uri": "https://localhost:8080/",
          "height": 0
        },
        "outputId": "d9818eca-3a9d-4814-8457-d5ae94b8f9cb"
      },
      "execution_count": 27,
      "outputs": [
        {
          "output_type": "execute_result",
          "data": {
            "text/plain": [
              "       age      workclass  fnlwgt      education  education_num  \\\n",
              "0       38        Private   89814        HS-grad              9   \n",
              "1       28      Local-gov  336951     Assoc-acdm             12   \n",
              "2       44        Private  160323   Some-college             10   \n",
              "3       18              ?  103497   Some-college             10   \n",
              "4       34        Private  198693           10th              6   \n",
              "...    ...            ...     ...            ...            ...   \n",
              "16275   39        Private  215419      Bachelors             13   \n",
              "16276   64              ?  321403        HS-grad              9   \n",
              "16277   38        Private  374983      Bachelors             13   \n",
              "16278   44        Private   83891      Bachelors             13   \n",
              "16279   35   Self-emp-inc  182148      Bachelors             13   \n",
              "\n",
              "            marital_status          occupation     relationship  \\\n",
              "0       Married-civ-spouse     Farming-fishing          Husband   \n",
              "1       Married-civ-spouse     Protective-serv          Husband   \n",
              "2       Married-civ-spouse   Machine-op-inspct          Husband   \n",
              "3            Never-married                   ?        Own-child   \n",
              "4            Never-married       Other-service    Not-in-family   \n",
              "...                    ...                 ...              ...   \n",
              "16275             Divorced      Prof-specialty    Not-in-family   \n",
              "16276              Widowed                   ?   Other-relative   \n",
              "16277   Married-civ-spouse      Prof-specialty          Husband   \n",
              "16278             Divorced        Adm-clerical        Own-child   \n",
              "16279   Married-civ-spouse     Exec-managerial          Husband   \n",
              "\n",
              "                      race      sex  capital_gain  capital_loss  \\\n",
              "0                    White     Male             0             0   \n",
              "1                    White     Male             0             0   \n",
              "2                    Black     Male          7688             0   \n",
              "3                    White   Female             0             0   \n",
              "4                    White     Male             0             0   \n",
              "...                    ...      ...           ...           ...   \n",
              "16275                White   Female             0             0   \n",
              "16276                Black     Male             0             0   \n",
              "16277                White     Male             0             0   \n",
              "16278   Asian-Pac-Islander     Male          5455             0   \n",
              "16279                White     Male             0             0   \n",
              "\n",
              "       hours_per_week  native_country  \n",
              "0                  50   United-States  \n",
              "1                  40   United-States  \n",
              "2                  40   United-States  \n",
              "3                  30   United-States  \n",
              "4                  30   United-States  \n",
              "...               ...             ...  \n",
              "16275              36   United-States  \n",
              "16276              40   United-States  \n",
              "16277              50   United-States  \n",
              "16278              40   United-States  \n",
              "16279              60   United-States  \n",
              "\n",
              "[16280 rows x 14 columns]"
            ],
            "text/html": [
              "\n",
              "  <div id=\"df-93f4228a-eaf4-4e48-9dd9-0a189e859d9c\">\n",
              "    <div class=\"colab-df-container\">\n",
              "      <div>\n",
              "<style scoped>\n",
              "    .dataframe tbody tr th:only-of-type {\n",
              "        vertical-align: middle;\n",
              "    }\n",
              "\n",
              "    .dataframe tbody tr th {\n",
              "        vertical-align: top;\n",
              "    }\n",
              "\n",
              "    .dataframe thead th {\n",
              "        text-align: right;\n",
              "    }\n",
              "</style>\n",
              "<table border=\"1\" class=\"dataframe\">\n",
              "  <thead>\n",
              "    <tr style=\"text-align: right;\">\n",
              "      <th></th>\n",
              "      <th>age</th>\n",
              "      <th>workclass</th>\n",
              "      <th>fnlwgt</th>\n",
              "      <th>education</th>\n",
              "      <th>education_num</th>\n",
              "      <th>marital_status</th>\n",
              "      <th>occupation</th>\n",
              "      <th>relationship</th>\n",
              "      <th>race</th>\n",
              "      <th>sex</th>\n",
              "      <th>capital_gain</th>\n",
              "      <th>capital_loss</th>\n",
              "      <th>hours_per_week</th>\n",
              "      <th>native_country</th>\n",
              "    </tr>\n",
              "  </thead>\n",
              "  <tbody>\n",
              "    <tr>\n",
              "      <th>0</th>\n",
              "      <td>38</td>\n",
              "      <td>Private</td>\n",
              "      <td>89814</td>\n",
              "      <td>HS-grad</td>\n",
              "      <td>9</td>\n",
              "      <td>Married-civ-spouse</td>\n",
              "      <td>Farming-fishing</td>\n",
              "      <td>Husband</td>\n",
              "      <td>White</td>\n",
              "      <td>Male</td>\n",
              "      <td>0</td>\n",
              "      <td>0</td>\n",
              "      <td>50</td>\n",
              "      <td>United-States</td>\n",
              "    </tr>\n",
              "    <tr>\n",
              "      <th>1</th>\n",
              "      <td>28</td>\n",
              "      <td>Local-gov</td>\n",
              "      <td>336951</td>\n",
              "      <td>Assoc-acdm</td>\n",
              "      <td>12</td>\n",
              "      <td>Married-civ-spouse</td>\n",
              "      <td>Protective-serv</td>\n",
              "      <td>Husband</td>\n",
              "      <td>White</td>\n",
              "      <td>Male</td>\n",
              "      <td>0</td>\n",
              "      <td>0</td>\n",
              "      <td>40</td>\n",
              "      <td>United-States</td>\n",
              "    </tr>\n",
              "    <tr>\n",
              "      <th>2</th>\n",
              "      <td>44</td>\n",
              "      <td>Private</td>\n",
              "      <td>160323</td>\n",
              "      <td>Some-college</td>\n",
              "      <td>10</td>\n",
              "      <td>Married-civ-spouse</td>\n",
              "      <td>Machine-op-inspct</td>\n",
              "      <td>Husband</td>\n",
              "      <td>Black</td>\n",
              "      <td>Male</td>\n",
              "      <td>7688</td>\n",
              "      <td>0</td>\n",
              "      <td>40</td>\n",
              "      <td>United-States</td>\n",
              "    </tr>\n",
              "    <tr>\n",
              "      <th>3</th>\n",
              "      <td>18</td>\n",
              "      <td>?</td>\n",
              "      <td>103497</td>\n",
              "      <td>Some-college</td>\n",
              "      <td>10</td>\n",
              "      <td>Never-married</td>\n",
              "      <td>?</td>\n",
              "      <td>Own-child</td>\n",
              "      <td>White</td>\n",
              "      <td>Female</td>\n",
              "      <td>0</td>\n",
              "      <td>0</td>\n",
              "      <td>30</td>\n",
              "      <td>United-States</td>\n",
              "    </tr>\n",
              "    <tr>\n",
              "      <th>4</th>\n",
              "      <td>34</td>\n",
              "      <td>Private</td>\n",
              "      <td>198693</td>\n",
              "      <td>10th</td>\n",
              "      <td>6</td>\n",
              "      <td>Never-married</td>\n",
              "      <td>Other-service</td>\n",
              "      <td>Not-in-family</td>\n",
              "      <td>White</td>\n",
              "      <td>Male</td>\n",
              "      <td>0</td>\n",
              "      <td>0</td>\n",
              "      <td>30</td>\n",
              "      <td>United-States</td>\n",
              "    </tr>\n",
              "    <tr>\n",
              "      <th>...</th>\n",
              "      <td>...</td>\n",
              "      <td>...</td>\n",
              "      <td>...</td>\n",
              "      <td>...</td>\n",
              "      <td>...</td>\n",
              "      <td>...</td>\n",
              "      <td>...</td>\n",
              "      <td>...</td>\n",
              "      <td>...</td>\n",
              "      <td>...</td>\n",
              "      <td>...</td>\n",
              "      <td>...</td>\n",
              "      <td>...</td>\n",
              "      <td>...</td>\n",
              "    </tr>\n",
              "    <tr>\n",
              "      <th>16275</th>\n",
              "      <td>39</td>\n",
              "      <td>Private</td>\n",
              "      <td>215419</td>\n",
              "      <td>Bachelors</td>\n",
              "      <td>13</td>\n",
              "      <td>Divorced</td>\n",
              "      <td>Prof-specialty</td>\n",
              "      <td>Not-in-family</td>\n",
              "      <td>White</td>\n",
              "      <td>Female</td>\n",
              "      <td>0</td>\n",
              "      <td>0</td>\n",
              "      <td>36</td>\n",
              "      <td>United-States</td>\n",
              "    </tr>\n",
              "    <tr>\n",
              "      <th>16276</th>\n",
              "      <td>64</td>\n",
              "      <td>?</td>\n",
              "      <td>321403</td>\n",
              "      <td>HS-grad</td>\n",
              "      <td>9</td>\n",
              "      <td>Widowed</td>\n",
              "      <td>?</td>\n",
              "      <td>Other-relative</td>\n",
              "      <td>Black</td>\n",
              "      <td>Male</td>\n",
              "      <td>0</td>\n",
              "      <td>0</td>\n",
              "      <td>40</td>\n",
              "      <td>United-States</td>\n",
              "    </tr>\n",
              "    <tr>\n",
              "      <th>16277</th>\n",
              "      <td>38</td>\n",
              "      <td>Private</td>\n",
              "      <td>374983</td>\n",
              "      <td>Bachelors</td>\n",
              "      <td>13</td>\n",
              "      <td>Married-civ-spouse</td>\n",
              "      <td>Prof-specialty</td>\n",
              "      <td>Husband</td>\n",
              "      <td>White</td>\n",
              "      <td>Male</td>\n",
              "      <td>0</td>\n",
              "      <td>0</td>\n",
              "      <td>50</td>\n",
              "      <td>United-States</td>\n",
              "    </tr>\n",
              "    <tr>\n",
              "      <th>16278</th>\n",
              "      <td>44</td>\n",
              "      <td>Private</td>\n",
              "      <td>83891</td>\n",
              "      <td>Bachelors</td>\n",
              "      <td>13</td>\n",
              "      <td>Divorced</td>\n",
              "      <td>Adm-clerical</td>\n",
              "      <td>Own-child</td>\n",
              "      <td>Asian-Pac-Islander</td>\n",
              "      <td>Male</td>\n",
              "      <td>5455</td>\n",
              "      <td>0</td>\n",
              "      <td>40</td>\n",
              "      <td>United-States</td>\n",
              "    </tr>\n",
              "    <tr>\n",
              "      <th>16279</th>\n",
              "      <td>35</td>\n",
              "      <td>Self-emp-inc</td>\n",
              "      <td>182148</td>\n",
              "      <td>Bachelors</td>\n",
              "      <td>13</td>\n",
              "      <td>Married-civ-spouse</td>\n",
              "      <td>Exec-managerial</td>\n",
              "      <td>Husband</td>\n",
              "      <td>White</td>\n",
              "      <td>Male</td>\n",
              "      <td>0</td>\n",
              "      <td>0</td>\n",
              "      <td>60</td>\n",
              "      <td>United-States</td>\n",
              "    </tr>\n",
              "  </tbody>\n",
              "</table>\n",
              "<p>16280 rows × 14 columns</p>\n",
              "</div>\n",
              "      <button class=\"colab-df-convert\" onclick=\"convertToInteractive('df-93f4228a-eaf4-4e48-9dd9-0a189e859d9c')\"\n",
              "              title=\"Convert this dataframe to an interactive table.\"\n",
              "              style=\"display:none;\">\n",
              "        \n",
              "  <svg xmlns=\"http://www.w3.org/2000/svg\" height=\"24px\"viewBox=\"0 0 24 24\"\n",
              "       width=\"24px\">\n",
              "    <path d=\"M0 0h24v24H0V0z\" fill=\"none\"/>\n",
              "    <path d=\"M18.56 5.44l.94 2.06.94-2.06 2.06-.94-2.06-.94-.94-2.06-.94 2.06-2.06.94zm-11 1L8.5 8.5l.94-2.06 2.06-.94-2.06-.94L8.5 2.5l-.94 2.06-2.06.94zm10 10l.94 2.06.94-2.06 2.06-.94-2.06-.94-.94-2.06-.94 2.06-2.06.94z\"/><path d=\"M17.41 7.96l-1.37-1.37c-.4-.4-.92-.59-1.43-.59-.52 0-1.04.2-1.43.59L10.3 9.45l-7.72 7.72c-.78.78-.78 2.05 0 2.83L4 21.41c.39.39.9.59 1.41.59.51 0 1.02-.2 1.41-.59l7.78-7.78 2.81-2.81c.8-.78.8-2.07 0-2.86zM5.41 20L4 18.59l7.72-7.72 1.47 1.35L5.41 20z\"/>\n",
              "  </svg>\n",
              "      </button>\n",
              "      \n",
              "  <style>\n",
              "    .colab-df-container {\n",
              "      display:flex;\n",
              "      flex-wrap:wrap;\n",
              "      gap: 12px;\n",
              "    }\n",
              "\n",
              "    .colab-df-convert {\n",
              "      background-color: #E8F0FE;\n",
              "      border: none;\n",
              "      border-radius: 50%;\n",
              "      cursor: pointer;\n",
              "      display: none;\n",
              "      fill: #1967D2;\n",
              "      height: 32px;\n",
              "      padding: 0 0 0 0;\n",
              "      width: 32px;\n",
              "    }\n",
              "\n",
              "    .colab-df-convert:hover {\n",
              "      background-color: #E2EBFA;\n",
              "      box-shadow: 0px 1px 2px rgba(60, 64, 67, 0.3), 0px 1px 3px 1px rgba(60, 64, 67, 0.15);\n",
              "      fill: #174EA6;\n",
              "    }\n",
              "\n",
              "    [theme=dark] .colab-df-convert {\n",
              "      background-color: #3B4455;\n",
              "      fill: #D2E3FC;\n",
              "    }\n",
              "\n",
              "    [theme=dark] .colab-df-convert:hover {\n",
              "      background-color: #434B5C;\n",
              "      box-shadow: 0px 1px 3px 1px rgba(0, 0, 0, 0.15);\n",
              "      filter: drop-shadow(0px 1px 2px rgba(0, 0, 0, 0.3));\n",
              "      fill: #FFFFFF;\n",
              "    }\n",
              "  </style>\n",
              "\n",
              "      <script>\n",
              "        const buttonEl =\n",
              "          document.querySelector('#df-93f4228a-eaf4-4e48-9dd9-0a189e859d9c button.colab-df-convert');\n",
              "        buttonEl.style.display =\n",
              "          google.colab.kernel.accessAllowed ? 'block' : 'none';\n",
              "\n",
              "        async function convertToInteractive(key) {\n",
              "          const element = document.querySelector('#df-93f4228a-eaf4-4e48-9dd9-0a189e859d9c');\n",
              "          const dataTable =\n",
              "            await google.colab.kernel.invokeFunction('convertToInteractive',\n",
              "                                                     [key], {});\n",
              "          if (!dataTable) return;\n",
              "\n",
              "          const docLinkHtml = 'Like what you see? Visit the ' +\n",
              "            '<a target=\"_blank\" href=https://colab.research.google.com/notebooks/data_table.ipynb>data table notebook</a>'\n",
              "            + ' to learn more about interactive tables.';\n",
              "          element.innerHTML = '';\n",
              "          dataTable['output_type'] = 'display_data';\n",
              "          await google.colab.output.renderOutput(dataTable, element);\n",
              "          const docLink = document.createElement('div');\n",
              "          docLink.innerHTML = docLinkHtml;\n",
              "          element.appendChild(docLink);\n",
              "        }\n",
              "      </script>\n",
              "    </div>\n",
              "  </div>\n",
              "  "
            ]
          },
          "metadata": {},
          "execution_count": 27
        }
      ]
    },
    {
      "cell_type": "markdown",
      "source": [
        "## Tratamento da Base"
      ],
      "metadata": {
        "id": "2J1UDF-WBxZ-"
      }
    },
    {
      "cell_type": "code",
      "source": [
        "df_teste = df_teste.iloc[:, 0:14].values"
      ],
      "metadata": {
        "id": "2dWKR5eKyJ_p"
      },
      "execution_count": 28,
      "outputs": []
    },
    {
      "cell_type": "code",
      "source": [
        "#LabelEncoder\n",
        "df_teste[:, 1] = label_enconder_workclass.transform(df_teste[:, 1])\n",
        "df_teste[:, 3] = label_enconder_education.transform(df_teste[:, 3])\n",
        "df_teste[:, 5] = label_enconder_marital_status.transform(df_teste[:, 5])\n",
        "df_teste[:, 6] = label_enconder_occupation.transform(df_teste[:, 6])\n",
        "df_teste[:, 7] = label_enconder_relationship.transform(df_teste[:, 7])\n",
        "df_teste[:, 8] = label_enconder_race.transform(df_teste[:, 8])\n",
        "df_teste[:, 9] = label_enconder_sex.transform(df_teste[:, 9])\n",
        "df_teste[:, 13] = label_enconder_native_country.transform(df_teste[:, 13])"
      ],
      "metadata": {
        "id": "i1MUZP9txZAi"
      },
      "execution_count": 29,
      "outputs": []
    },
    {
      "cell_type": "code",
      "source": [
        "#OneHotEncoder\n",
        "df_teste = onehotenconder.transform(df_teste).toarray()"
      ],
      "metadata": {
        "id": "UyUUsGKwxyod"
      },
      "execution_count": 30,
      "outputs": []
    },
    {
      "cell_type": "code",
      "source": [
        "#Escalonamento\n",
        "df_teste = standardscaler.transform(df_teste)"
      ],
      "metadata": {
        "id": "dTs5Ta_rx4-i"
      },
      "execution_count": 31,
      "outputs": []
    },
    {
      "cell_type": "markdown",
      "source": [
        "## Teste"
      ],
      "metadata": {
        "id": "yy-7ETFNA5ED"
      }
    },
    {
      "cell_type": "code",
      "source": [
        "rotulos_previstos_teste = modelo_rf.predict(df_teste)"
      ],
      "metadata": {
        "id": "eGYKqoN31EEY"
      },
      "execution_count": 32,
      "outputs": []
    },
    {
      "cell_type": "markdown",
      "source": [
        "## Salvando resultados"
      ],
      "metadata": {
        "id": "ozIzFdCaA7GW"
      }
    },
    {
      "cell_type": "code",
      "source": [
        "index = np.array(range(0, len(rotulos_previstos_teste)))\n",
        "pred = np.transpose(np.array([index, rotulos_previstos_teste]))"
      ],
      "metadata": {
        "id": "q7VlpNun1O_7"
      },
      "execution_count": 33,
      "outputs": []
    },
    {
      "cell_type": "code",
      "source": [
        "predicted_csv = pd.DataFrame(pred, columns = ['rowNumber','predictedValues'])\n",
        "predicted_csv"
      ],
      "metadata": {
        "colab": {
          "base_uri": "https://localhost:8080/",
          "height": 424
        },
        "id": "5u-Vb1CT_Rsm",
        "outputId": "a49d48cf-1a15-412e-d069-ca0643c6d2b5"
      },
      "execution_count": 34,
      "outputs": [
        {
          "output_type": "execute_result",
          "data": {
            "text/plain": [
              "      rowNumber predictedValues\n",
              "0             0           <=50K\n",
              "1             1            >50K\n",
              "2             2            >50K\n",
              "3             3           <=50K\n",
              "4             4           <=50K\n",
              "...         ...             ...\n",
              "16275     16275           <=50K\n",
              "16276     16276           <=50K\n",
              "16277     16277            >50K\n",
              "16278     16278           <=50K\n",
              "16279     16279            >50K\n",
              "\n",
              "[16280 rows x 2 columns]"
            ],
            "text/html": [
              "\n",
              "  <div id=\"df-a51220a2-351e-41f5-9d6e-a1d59d614e1f\">\n",
              "    <div class=\"colab-df-container\">\n",
              "      <div>\n",
              "<style scoped>\n",
              "    .dataframe tbody tr th:only-of-type {\n",
              "        vertical-align: middle;\n",
              "    }\n",
              "\n",
              "    .dataframe tbody tr th {\n",
              "        vertical-align: top;\n",
              "    }\n",
              "\n",
              "    .dataframe thead th {\n",
              "        text-align: right;\n",
              "    }\n",
              "</style>\n",
              "<table border=\"1\" class=\"dataframe\">\n",
              "  <thead>\n",
              "    <tr style=\"text-align: right;\">\n",
              "      <th></th>\n",
              "      <th>rowNumber</th>\n",
              "      <th>predictedValues</th>\n",
              "    </tr>\n",
              "  </thead>\n",
              "  <tbody>\n",
              "    <tr>\n",
              "      <th>0</th>\n",
              "      <td>0</td>\n",
              "      <td>&lt;=50K</td>\n",
              "    </tr>\n",
              "    <tr>\n",
              "      <th>1</th>\n",
              "      <td>1</td>\n",
              "      <td>&gt;50K</td>\n",
              "    </tr>\n",
              "    <tr>\n",
              "      <th>2</th>\n",
              "      <td>2</td>\n",
              "      <td>&gt;50K</td>\n",
              "    </tr>\n",
              "    <tr>\n",
              "      <th>3</th>\n",
              "      <td>3</td>\n",
              "      <td>&lt;=50K</td>\n",
              "    </tr>\n",
              "    <tr>\n",
              "      <th>4</th>\n",
              "      <td>4</td>\n",
              "      <td>&lt;=50K</td>\n",
              "    </tr>\n",
              "    <tr>\n",
              "      <th>...</th>\n",
              "      <td>...</td>\n",
              "      <td>...</td>\n",
              "    </tr>\n",
              "    <tr>\n",
              "      <th>16275</th>\n",
              "      <td>16275</td>\n",
              "      <td>&lt;=50K</td>\n",
              "    </tr>\n",
              "    <tr>\n",
              "      <th>16276</th>\n",
              "      <td>16276</td>\n",
              "      <td>&lt;=50K</td>\n",
              "    </tr>\n",
              "    <tr>\n",
              "      <th>16277</th>\n",
              "      <td>16277</td>\n",
              "      <td>&gt;50K</td>\n",
              "    </tr>\n",
              "    <tr>\n",
              "      <th>16278</th>\n",
              "      <td>16278</td>\n",
              "      <td>&lt;=50K</td>\n",
              "    </tr>\n",
              "    <tr>\n",
              "      <th>16279</th>\n",
              "      <td>16279</td>\n",
              "      <td>&gt;50K</td>\n",
              "    </tr>\n",
              "  </tbody>\n",
              "</table>\n",
              "<p>16280 rows × 2 columns</p>\n",
              "</div>\n",
              "      <button class=\"colab-df-convert\" onclick=\"convertToInteractive('df-a51220a2-351e-41f5-9d6e-a1d59d614e1f')\"\n",
              "              title=\"Convert this dataframe to an interactive table.\"\n",
              "              style=\"display:none;\">\n",
              "        \n",
              "  <svg xmlns=\"http://www.w3.org/2000/svg\" height=\"24px\"viewBox=\"0 0 24 24\"\n",
              "       width=\"24px\">\n",
              "    <path d=\"M0 0h24v24H0V0z\" fill=\"none\"/>\n",
              "    <path d=\"M18.56 5.44l.94 2.06.94-2.06 2.06-.94-2.06-.94-.94-2.06-.94 2.06-2.06.94zm-11 1L8.5 8.5l.94-2.06 2.06-.94-2.06-.94L8.5 2.5l-.94 2.06-2.06.94zm10 10l.94 2.06.94-2.06 2.06-.94-2.06-.94-.94-2.06-.94 2.06-2.06.94z\"/><path d=\"M17.41 7.96l-1.37-1.37c-.4-.4-.92-.59-1.43-.59-.52 0-1.04.2-1.43.59L10.3 9.45l-7.72 7.72c-.78.78-.78 2.05 0 2.83L4 21.41c.39.39.9.59 1.41.59.51 0 1.02-.2 1.41-.59l7.78-7.78 2.81-2.81c.8-.78.8-2.07 0-2.86zM5.41 20L4 18.59l7.72-7.72 1.47 1.35L5.41 20z\"/>\n",
              "  </svg>\n",
              "      </button>\n",
              "      \n",
              "  <style>\n",
              "    .colab-df-container {\n",
              "      display:flex;\n",
              "      flex-wrap:wrap;\n",
              "      gap: 12px;\n",
              "    }\n",
              "\n",
              "    .colab-df-convert {\n",
              "      background-color: #E8F0FE;\n",
              "      border: none;\n",
              "      border-radius: 50%;\n",
              "      cursor: pointer;\n",
              "      display: none;\n",
              "      fill: #1967D2;\n",
              "      height: 32px;\n",
              "      padding: 0 0 0 0;\n",
              "      width: 32px;\n",
              "    }\n",
              "\n",
              "    .colab-df-convert:hover {\n",
              "      background-color: #E2EBFA;\n",
              "      box-shadow: 0px 1px 2px rgba(60, 64, 67, 0.3), 0px 1px 3px 1px rgba(60, 64, 67, 0.15);\n",
              "      fill: #174EA6;\n",
              "    }\n",
              "\n",
              "    [theme=dark] .colab-df-convert {\n",
              "      background-color: #3B4455;\n",
              "      fill: #D2E3FC;\n",
              "    }\n",
              "\n",
              "    [theme=dark] .colab-df-convert:hover {\n",
              "      background-color: #434B5C;\n",
              "      box-shadow: 0px 1px 3px 1px rgba(0, 0, 0, 0.15);\n",
              "      filter: drop-shadow(0px 1px 2px rgba(0, 0, 0, 0.3));\n",
              "      fill: #FFFFFF;\n",
              "    }\n",
              "  </style>\n",
              "\n",
              "      <script>\n",
              "        const buttonEl =\n",
              "          document.querySelector('#df-a51220a2-351e-41f5-9d6e-a1d59d614e1f button.colab-df-convert');\n",
              "        buttonEl.style.display =\n",
              "          google.colab.kernel.accessAllowed ? 'block' : 'none';\n",
              "\n",
              "        async function convertToInteractive(key) {\n",
              "          const element = document.querySelector('#df-a51220a2-351e-41f5-9d6e-a1d59d614e1f');\n",
              "          const dataTable =\n",
              "            await google.colab.kernel.invokeFunction('convertToInteractive',\n",
              "                                                     [key], {});\n",
              "          if (!dataTable) return;\n",
              "\n",
              "          const docLinkHtml = 'Like what you see? Visit the ' +\n",
              "            '<a target=\"_blank\" href=https://colab.research.google.com/notebooks/data_table.ipynb>data table notebook</a>'\n",
              "            + ' to learn more about interactive tables.';\n",
              "          element.innerHTML = '';\n",
              "          dataTable['output_type'] = 'display_data';\n",
              "          await google.colab.output.renderOutput(dataTable, element);\n",
              "          const docLink = document.createElement('div');\n",
              "          docLink.innerHTML = docLinkHtml;\n",
              "          element.appendChild(docLink);\n",
              "        }\n",
              "      </script>\n",
              "    </div>\n",
              "  </div>\n",
              "  "
            ]
          },
          "metadata": {},
          "execution_count": 34
        }
      ]
    },
    {
      "cell_type": "code",
      "source": [
        "predicted_csv.to_csv(\"predicted.csv\", index=False)"
      ],
      "metadata": {
        "id": "aXfDHQgCckm2"
      },
      "execution_count": 35,
      "outputs": []
    }
  ]
}